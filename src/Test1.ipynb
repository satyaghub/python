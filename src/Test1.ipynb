{
 "cells": [
  {
   "cell_type": "code",
   "execution_count": null,
   "metadata": {},
   "outputs": [],
   "source": []
  },
  {
   "cell_type": "markdown",
   "metadata": {},
   "source": [
    "age =int(input())\n",
    "if age >=18:\n",
    "    print(\"regular price\")\n",
    "else:\n",
    "    print(\"discount\")"
   ]
  },
  {
   "cell_type": "markdown",
   "metadata": {},
   "source": []
  },
  {
   "cell_type": "markdown",
   "metadata": {},
   "source": []
  },
  {
   "cell_type": "code",
   "execution_count": 7,
   "metadata": {},
   "outputs": [
    {
     "name": "stdout",
     "output_type": "stream",
     "text": [
      "Havisha & Siva\n",
      "Havisha & Siva\n",
      "Havisha & Siva\n",
      "Havisha & Siva\n",
      "Havisha & Siva\n"
     ]
    }
   ],
   "source": [
    "for i in range(5):\n",
    "    print(\"Havisha & Siva\")"
   ]
  },
  {
   "cell_type": "code",
   "execution_count": 8,
   "metadata": {},
   "outputs": [
    {
     "name": "stdout",
     "output_type": "stream",
     "text": [
      "0\n",
      "1\n",
      "2\n",
      "3\n",
      "4\n"
     ]
    }
   ],
   "source": [
    "for i in range(5):\n",
    "     print (i)"
   ]
  },
  {
   "cell_type": "code",
   "execution_count": 15,
   "metadata": {},
   "outputs": [
    {
     "name": "stdout",
     "output_type": "stream",
     "text": [
      "sell ticket\n",
      "sell ticket\n",
      "sell ticket\n",
      "sell ticket\n",
      "sell ticket\n"
     ]
    }
   ],
   "source": [
    "seats = 5\n",
    "while seats>0:\n",
    "    print(\"sell ticket\")\n",
    "    seats = seats -1"
   ]
  },
  {
   "cell_type": "code",
   "execution_count": 17,
   "metadata": {},
   "outputs": [
    {
     "name": "stdout",
     "output_type": "stream",
     "text": [
      "True\n"
     ]
    }
   ],
   "source": [
    "print(5>=5)"
   ]
  },
  {
   "cell_type": "code",
   "execution_count": 21,
   "metadata": {},
   "outputs": [
    {
     "name": "stdout",
     "output_type": "stream",
     "text": [
      "Havisha\n",
      "True\n"
     ]
    }
   ],
   "source": [
    "password = \"Havisha\"\n",
    "guess = input()\n",
    "print(guess == password)"
   ]
  },
  {
   "cell_type": "code",
   "execution_count": 1,
   "metadata": {},
   "outputs": [
    {
     "name": "stdout",
     "output_type": "stream",
     "text": [
      "hi\n"
     ]
    }
   ],
   "source": [
    "print(\"hi\")"
   ]
  },
  {
   "cell_type": "code",
   "execution_count": 7,
   "metadata": {},
   "outputs": [
    {
     "name": "stdout",
     "output_type": "stream",
     "text": [
      "['chakrapani', 'gopi']\n"
     ]
    }
   ],
   "source": [
    "satya = ['anusha','havisha','chakrapani','gopi','jyothi']\n",
    "print(satya[2:4])"
   ]
  },
  {
   "cell_type": "code",
   "execution_count": 8,
   "metadata": {},
   "outputs": [
    {
     "name": "stdout",
     "output_type": "stream",
     "text": [
      "30\n"
     ]
    }
   ],
   "source": [
    "a = 10\n",
    "b = 20\n",
    "c = a+b\n",
    "print(c)"
   ]
  },
  {
   "cell_type": "code",
   "execution_count": 9,
   "metadata": {},
   "outputs": [
    {
     "name": "stdout",
     "output_type": "stream",
     "text": [
      "<class 'int'>\n"
     ]
    }
   ],
   "source": [
    "a = 10\n",
    "b = 20\n",
    "c = a+b\n",
    "print(type(c))"
   ]
  },
  {
   "cell_type": "code",
   "execution_count": 1,
   "metadata": {},
   "outputs": [
    {
     "name": "stdout",
     "output_type": "stream",
     "text": [
      "siva\n",
      "wrong password\n",
      "anusha\n",
      "wrong password\n",
      "Havisha\n",
      "Access Granted\n"
     ]
    }
   ],
   "source": [
    "password = 'Havisha'\n",
    "guess =input()\n",
    "while guess != password:\n",
    "    print('wrong password')\n",
    "    guess = input()\n",
    "print('Access Granted')"
   ]
  },
  {
   "cell_type": "code",
   "execution_count": 1,
   "metadata": {},
   "outputs": [
    {
     "name": "stdout",
     "output_type": "stream",
     "text": [
      "[1, 6, 11]\n"
     ]
    }
   ],
   "source": [
    "nums = [8,6,11]\n",
    "nums[0] = 1\n",
    "print(nums)"
   ]
  },
  {
   "cell_type": "code",
   "execution_count": 2,
   "metadata": {},
   "outputs": [
    {
     "name": "stdout",
     "output_type": "stream",
     "text": [
      "['lamp', 'candle', 'chair']\n"
     ]
    }
   ],
   "source": [
    "cart = ['lamp','candle','chair','carpet']\n",
    "print(cart[:3])"
   ]
  },
  {
   "cell_type": "code",
   "execution_count": 3,
   "metadata": {},
   "outputs": [
    {
     "name": "stdout",
     "output_type": "stream",
     "text": [
      "['carpet']\n"
     ]
    }
   ],
   "source": [
    "cart = ['lamp','candle','chair','carpet']\n",
    "print(cart[3:])"
   ]
  },
  {
   "cell_type": "code",
   "execution_count": 6,
   "metadata": {},
   "outputs": [
    {
     "name": "stdout",
     "output_type": "stream",
     "text": [
      "smartphone\n",
      "SMARTPHONE\n"
     ]
    }
   ],
   "source": [
    "a = 'smArtPhone'\n",
    "b = 'SmartPHone'\n",
    "print(a.lower())\n",
    "print(b.upper())"
   ]
  },
  {
   "cell_type": "code",
   "execution_count": 8,
   "metadata": {},
   "outputs": [
    {
     "name": "stdout",
     "output_type": "stream",
     "text": [
      "['book', 'pen', 'marker', 'pencil']\n"
     ]
    }
   ],
   "source": [
    "# insert() function\n",
    "items = ['book','pen','pencil']\n",
    "items.insert(2,'marker')\n",
    "print(items)"
   ]
  },
  {
   "cell_type": "code",
   "execution_count": 13,
   "metadata": {},
   "outputs": [
    {
     "name": "stdout",
     "output_type": "stream",
     "text": [
      "hello anu\n",
      "have a great day\n"
     ]
    }
   ],
   "source": [
    "# defining a function\n",
    "def personal_greet(name):\n",
    "    print('hello',name)\n",
    "    print('have a great day')\n",
    "personal_greet('anu')"
   ]
  },
  {
   "cell_type": "code",
   "execution_count": 15,
   "metadata": {},
   "outputs": [
    {
     "data": {
      "text/plain": [
       "2.2683583237216456"
      ]
     },
     "execution_count": 15,
     "metadata": {},
     "output_type": "execute_result"
    }
   ],
   "source": [
    "def bmi(weight,height):\n",
    "    index = weight/(height*height)\n",
    "    return index\n",
    "bmi(59,5.1)"
   ]
  },
  {
   "cell_type": "code",
   "execution_count": 2,
   "metadata": {},
   "outputs": [
    {
     "name": "stdout",
     "output_type": "stream",
     "text": [
      "SIVA\n",
      "Anu\n"
     ]
    }
   ],
   "source": [
    "a = 'siva'\n",
    "b = 'anu'\n",
    "print(a.upper())\n",
    "print(b.capitalize())"
   ]
  },
  {
   "cell_type": "code",
   "execution_count": 5,
   "metadata": {},
   "outputs": [
    {
     "name": "stdout",
     "output_type": "stream",
     "text": [
      "['game', 'play', 'hello', 'run']\n"
     ]
    }
   ],
   "source": [
    "fun = ['game','play','run']\n",
    "fun.insert(2,'hello')\n",
    "print(fun)"
   ]
  },
  {
   "cell_type": "code",
   "execution_count": 6,
   "metadata": {},
   "outputs": [
    {
     "name": "stdout",
     "output_type": "stream",
     "text": [
      "['game', 'play']\n"
     ]
    }
   ],
   "source": [
    "fun = ['game','play','run']\n",
    "fun.pop()\n",
    "print(fun)"
   ]
  },
  {
   "cell_type": "code",
   "execution_count": null,
   "metadata": {},
   "outputs": [],
   "source": []
  }
 ],
 "metadata": {
  "kernelspec": {
   "display_name": "Python 3",
   "language": "python",
   "name": "python3"
  },
  "language_info": {
   "codemirror_mode": {
    "name": "ipython",
    "version": 3
   },
   "file_extension": ".py",
   "mimetype": "text/x-python",
   "name": "python",
   "nbconvert_exporter": "python",
   "pygments_lexer": "ipython3",
   "version": "3.7.3"
  }
 },
 "nbformat": 4,
 "nbformat_minor": 2
}
